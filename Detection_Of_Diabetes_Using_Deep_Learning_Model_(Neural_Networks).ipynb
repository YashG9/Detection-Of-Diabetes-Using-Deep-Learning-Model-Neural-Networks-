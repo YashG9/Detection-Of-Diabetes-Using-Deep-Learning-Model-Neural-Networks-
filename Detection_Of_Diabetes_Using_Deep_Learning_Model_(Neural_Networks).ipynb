{
  "nbformat": 4,
  "nbformat_minor": 0,
  "metadata": {
    "colab": {
      "provenance": [],
      "authorship_tag": "ABX9TyPN4SiQeSLEGlcHDL3qNIzA",
      "include_colab_link": true
    },
    "kernelspec": {
      "name": "python3",
      "display_name": "Python 3"
    },
    "language_info": {
      "name": "python"
    }
  },
  "cells": [
    {
      "cell_type": "markdown",
      "metadata": {
        "id": "view-in-github",
        "colab_type": "text"
      },
      "source": [
        "<a href=\"https://colab.research.google.com/github/YashG9/Detection-Of-Diabetes-Using-Deep-Learning-Model-Neural-Networks-/blob/main/Detection_Of_Diabetes_Using_Deep_Learning_Model_(Neural_Networks).ipynb\" target=\"_parent\"><img src=\"https://colab.research.google.com/assets/colab-badge.svg\" alt=\"Open In Colab\"/></a>"
      ]
    },
    {
      "cell_type": "markdown",
      "source": [
        "## **Detection Of Type 2 Diabetes**"
      ],
      "metadata": {
        "id": "D7LAt7MOtKOK"
      }
    },
    {
      "cell_type": "markdown",
      "source": [
        "## Using Deep Learning Model (Neural Networks)"
      ],
      "metadata": {
        "id": "yVm-oE5g23t6"
      }
    },
    {
      "cell_type": "code",
      "source": [
        "!pip install seaborn"
      ],
      "metadata": {
        "colab": {
          "base_uri": "https://localhost:8080/"
        },
        "id": "iXH1uLXbtNe9",
        "outputId": "6512d4b0-cdaa-43c4-84a9-8592f84cadef"
      },
      "execution_count": 1,
      "outputs": [
        {
          "output_type": "stream",
          "name": "stdout",
          "text": [
            "Looking in indexes: https://pypi.org/simple, https://us-python.pkg.dev/colab-wheels/public/simple/\n",
            "Requirement already satisfied: seaborn in /usr/local/lib/python3.9/dist-packages (0.12.2)\n",
            "Requirement already satisfied: numpy!=1.24.0,>=1.17 in /usr/local/lib/python3.9/dist-packages (from seaborn) (1.22.4)\n",
            "Requirement already satisfied: pandas>=0.25 in /usr/local/lib/python3.9/dist-packages (from seaborn) (1.4.4)\n",
            "Requirement already satisfied: matplotlib!=3.6.1,>=3.1 in /usr/local/lib/python3.9/dist-packages (from seaborn) (3.7.1)\n",
            "Requirement already satisfied: cycler>=0.10 in /usr/local/lib/python3.9/dist-packages (from matplotlib!=3.6.1,>=3.1->seaborn) (0.11.0)\n",
            "Requirement already satisfied: contourpy>=1.0.1 in /usr/local/lib/python3.9/dist-packages (from matplotlib!=3.6.1,>=3.1->seaborn) (1.0.7)\n",
            "Requirement already satisfied: packaging>=20.0 in /usr/local/lib/python3.9/dist-packages (from matplotlib!=3.6.1,>=3.1->seaborn) (23.0)\n",
            "Requirement already satisfied: importlib-resources>=3.2.0 in /usr/local/lib/python3.9/dist-packages (from matplotlib!=3.6.1,>=3.1->seaborn) (5.12.0)\n",
            "Requirement already satisfied: fonttools>=4.22.0 in /usr/local/lib/python3.9/dist-packages (from matplotlib!=3.6.1,>=3.1->seaborn) (4.39.0)\n",
            "Requirement already satisfied: python-dateutil>=2.7 in /usr/local/lib/python3.9/dist-packages (from matplotlib!=3.6.1,>=3.1->seaborn) (2.8.2)\n",
            "Requirement already satisfied: pillow>=6.2.0 in /usr/local/lib/python3.9/dist-packages (from matplotlib!=3.6.1,>=3.1->seaborn) (8.4.0)\n",
            "Requirement already satisfied: kiwisolver>=1.0.1 in /usr/local/lib/python3.9/dist-packages (from matplotlib!=3.6.1,>=3.1->seaborn) (1.4.4)\n",
            "Requirement already satisfied: pyparsing>=2.3.1 in /usr/local/lib/python3.9/dist-packages (from matplotlib!=3.6.1,>=3.1->seaborn) (3.0.9)\n",
            "Requirement already satisfied: pytz>=2020.1 in /usr/local/lib/python3.9/dist-packages (from pandas>=0.25->seaborn) (2022.7.1)\n",
            "Requirement already satisfied: zipp>=3.1.0 in /usr/local/lib/python3.9/dist-packages (from importlib-resources>=3.2.0->matplotlib!=3.6.1,>=3.1->seaborn) (3.15.0)\n",
            "Requirement already satisfied: six>=1.5 in /usr/local/lib/python3.9/dist-packages (from python-dateutil>=2.7->matplotlib!=3.6.1,>=3.1->seaborn) (1.15.0)\n"
          ]
        }
      ]
    },
    {
      "cell_type": "markdown",
      "source": [
        "This project is intended to build a simple model that predicts if a person might be suffering from Diabetes Mellitus. For this purpose we have used a deep learning model with 3 layers. We have used Keras library for this purpose"
      ],
      "metadata": {
        "id": "3T2ok5pMuvde"
      }
    },
    {
      "cell_type": "markdown",
      "source": [
        "## Diabetes And Its Effects"
      ],
      "metadata": {
        "id": "i-s2J36OvHSp"
      }
    },
    {
      "cell_type": "markdown",
      "source": [
        "Diabetes is among one of the most common and widespread diseases in the world at present. Currently around 10.5% of global population suffers from Diabetes Mellitus (Type 2). Recently it has been observed that this disease is also rapidly growing in adolescents and early age adults. Diabetes can be genetic too which means that a person has a high risk of developing diabetes if it runs in the family history. It is a lifestyle disease and can can create severe consequences if not detected early and treated properly. Diabetes has a direct impact on functioning of heart and kidneys. Such prolonged effects can lead to cardiovascular diseases, blood pressure problems and failure of kidneys. In 2020, according to the International Diabetes Federation (IDF), 463 million people have diabetes in the world and 88 million people in the Southeast Asia region. Of this 88 million people, 77 million belong to India. The prevalence of diabetes in the population is 8.9%, according to the IDF. Thus this issue is an alarming one. One of the reasons is also that many people go untested or do not properly take a treatment for this problem. This model using only some primary features, tries to detect diabetes or chances of diabetes."
      ],
      "metadata": {
        "id": "BDKhK2lRvhyr"
      }
    },
    {
      "cell_type": "markdown",
      "source": [
        "## Data Source"
      ],
      "metadata": {
        "id": "rHA6uw3Yv33t"
      }
    },
    {
      "cell_type": "markdown",
      "source": [
        "For this model we have used the data from Pima Indians Diabetes Database. Link : https://www.kaggle.com/datasets/uciml/pima-indians-diabetes-database"
      ],
      "metadata": {
        "id": "BPKdbsYevsRq"
      }
    },
    {
      "cell_type": "markdown",
      "source": [
        "## Exploratory Data Analysis (EDA)"
      ],
      "metadata": {
        "id": "38np5PpUv_n2"
      }
    },
    {
      "cell_type": "code",
      "source": [
        "# Importing standard libraries used for EDA \n",
        "import pandas as pd\n",
        "import seaborn as sns\n",
        "import matplotlib.pyplot as plt\n",
        "%matplotlib inline"
      ],
      "metadata": {
        "id": "TupTc-8bwIBi"
      },
      "execution_count": 2,
      "outputs": []
    },
    {
      "cell_type": "code",
      "source": [
        "# Reading Data and display of some part of it\n",
        "diabetes_data = pd.read_csv('/content/diabetes.csv')\n",
        "diabetes_data.head()"
      ],
      "metadata": {
        "colab": {
          "base_uri": "https://localhost:8080/",
          "height": 206
        },
        "id": "h5ChcgcMwWvJ",
        "outputId": "bd6e6486-e69c-41e1-819a-3952d0bd47e7"
      },
      "execution_count": 4,
      "outputs": [
        {
          "output_type": "execute_result",
          "data": {
            "text/plain": [
              "   Pregnancies  Glucose  BloodPressure  SkinThickness  Insulin   BMI  \\\n",
              "0            6      148             72             35        0  33.6   \n",
              "1            1       85             66             29        0  26.6   \n",
              "2            8      183             64              0        0  23.3   \n",
              "3            1       89             66             23       94  28.1   \n",
              "4            0      137             40             35      168  43.1   \n",
              "\n",
              "   DiabetesPedigreeFunction  Age  Outcome  \n",
              "0                     0.627   50        1  \n",
              "1                     0.351   31        0  \n",
              "2                     0.672   32        1  \n",
              "3                     0.167   21        0  \n",
              "4                     2.288   33        1  "
            ],
            "text/html": [
              "\n",
              "  <div id=\"df-169d9fa4-c013-402a-ab5b-a5e18ba041b3\">\n",
              "    <div class=\"colab-df-container\">\n",
              "      <div>\n",
              "<style scoped>\n",
              "    .dataframe tbody tr th:only-of-type {\n",
              "        vertical-align: middle;\n",
              "    }\n",
              "\n",
              "    .dataframe tbody tr th {\n",
              "        vertical-align: top;\n",
              "    }\n",
              "\n",
              "    .dataframe thead th {\n",
              "        text-align: right;\n",
              "    }\n",
              "</style>\n",
              "<table border=\"1\" class=\"dataframe\">\n",
              "  <thead>\n",
              "    <tr style=\"text-align: right;\">\n",
              "      <th></th>\n",
              "      <th>Pregnancies</th>\n",
              "      <th>Glucose</th>\n",
              "      <th>BloodPressure</th>\n",
              "      <th>SkinThickness</th>\n",
              "      <th>Insulin</th>\n",
              "      <th>BMI</th>\n",
              "      <th>DiabetesPedigreeFunction</th>\n",
              "      <th>Age</th>\n",
              "      <th>Outcome</th>\n",
              "    </tr>\n",
              "  </thead>\n",
              "  <tbody>\n",
              "    <tr>\n",
              "      <th>0</th>\n",
              "      <td>6</td>\n",
              "      <td>148</td>\n",
              "      <td>72</td>\n",
              "      <td>35</td>\n",
              "      <td>0</td>\n",
              "      <td>33.6</td>\n",
              "      <td>0.627</td>\n",
              "      <td>50</td>\n",
              "      <td>1</td>\n",
              "    </tr>\n",
              "    <tr>\n",
              "      <th>1</th>\n",
              "      <td>1</td>\n",
              "      <td>85</td>\n",
              "      <td>66</td>\n",
              "      <td>29</td>\n",
              "      <td>0</td>\n",
              "      <td>26.6</td>\n",
              "      <td>0.351</td>\n",
              "      <td>31</td>\n",
              "      <td>0</td>\n",
              "    </tr>\n",
              "    <tr>\n",
              "      <th>2</th>\n",
              "      <td>8</td>\n",
              "      <td>183</td>\n",
              "      <td>64</td>\n",
              "      <td>0</td>\n",
              "      <td>0</td>\n",
              "      <td>23.3</td>\n",
              "      <td>0.672</td>\n",
              "      <td>32</td>\n",
              "      <td>1</td>\n",
              "    </tr>\n",
              "    <tr>\n",
              "      <th>3</th>\n",
              "      <td>1</td>\n",
              "      <td>89</td>\n",
              "      <td>66</td>\n",
              "      <td>23</td>\n",
              "      <td>94</td>\n",
              "      <td>28.1</td>\n",
              "      <td>0.167</td>\n",
              "      <td>21</td>\n",
              "      <td>0</td>\n",
              "    </tr>\n",
              "    <tr>\n",
              "      <th>4</th>\n",
              "      <td>0</td>\n",
              "      <td>137</td>\n",
              "      <td>40</td>\n",
              "      <td>35</td>\n",
              "      <td>168</td>\n",
              "      <td>43.1</td>\n",
              "      <td>2.288</td>\n",
              "      <td>33</td>\n",
              "      <td>1</td>\n",
              "    </tr>\n",
              "  </tbody>\n",
              "</table>\n",
              "</div>\n",
              "      <button class=\"colab-df-convert\" onclick=\"convertToInteractive('df-169d9fa4-c013-402a-ab5b-a5e18ba041b3')\"\n",
              "              title=\"Convert this dataframe to an interactive table.\"\n",
              "              style=\"display:none;\">\n",
              "        \n",
              "  <svg xmlns=\"http://www.w3.org/2000/svg\" height=\"24px\"viewBox=\"0 0 24 24\"\n",
              "       width=\"24px\">\n",
              "    <path d=\"M0 0h24v24H0V0z\" fill=\"none\"/>\n",
              "    <path d=\"M18.56 5.44l.94 2.06.94-2.06 2.06-.94-2.06-.94-.94-2.06-.94 2.06-2.06.94zm-11 1L8.5 8.5l.94-2.06 2.06-.94-2.06-.94L8.5 2.5l-.94 2.06-2.06.94zm10 10l.94 2.06.94-2.06 2.06-.94-2.06-.94-.94-2.06-.94 2.06-2.06.94z\"/><path d=\"M17.41 7.96l-1.37-1.37c-.4-.4-.92-.59-1.43-.59-.52 0-1.04.2-1.43.59L10.3 9.45l-7.72 7.72c-.78.78-.78 2.05 0 2.83L4 21.41c.39.39.9.59 1.41.59.51 0 1.02-.2 1.41-.59l7.78-7.78 2.81-2.81c.8-.78.8-2.07 0-2.86zM5.41 20L4 18.59l7.72-7.72 1.47 1.35L5.41 20z\"/>\n",
              "  </svg>\n",
              "      </button>\n",
              "      \n",
              "  <style>\n",
              "    .colab-df-container {\n",
              "      display:flex;\n",
              "      flex-wrap:wrap;\n",
              "      gap: 12px;\n",
              "    }\n",
              "\n",
              "    .colab-df-convert {\n",
              "      background-color: #E8F0FE;\n",
              "      border: none;\n",
              "      border-radius: 50%;\n",
              "      cursor: pointer;\n",
              "      display: none;\n",
              "      fill: #1967D2;\n",
              "      height: 32px;\n",
              "      padding: 0 0 0 0;\n",
              "      width: 32px;\n",
              "    }\n",
              "\n",
              "    .colab-df-convert:hover {\n",
              "      background-color: #E2EBFA;\n",
              "      box-shadow: 0px 1px 2px rgba(60, 64, 67, 0.3), 0px 1px 3px 1px rgba(60, 64, 67, 0.15);\n",
              "      fill: #174EA6;\n",
              "    }\n",
              "\n",
              "    [theme=dark] .colab-df-convert {\n",
              "      background-color: #3B4455;\n",
              "      fill: #D2E3FC;\n",
              "    }\n",
              "\n",
              "    [theme=dark] .colab-df-convert:hover {\n",
              "      background-color: #434B5C;\n",
              "      box-shadow: 0px 1px 3px 1px rgba(0, 0, 0, 0.15);\n",
              "      filter: drop-shadow(0px 1px 2px rgba(0, 0, 0, 0.3));\n",
              "      fill: #FFFFFF;\n",
              "    }\n",
              "  </style>\n",
              "\n",
              "      <script>\n",
              "        const buttonEl =\n",
              "          document.querySelector('#df-169d9fa4-c013-402a-ab5b-a5e18ba041b3 button.colab-df-convert');\n",
              "        buttonEl.style.display =\n",
              "          google.colab.kernel.accessAllowed ? 'block' : 'none';\n",
              "\n",
              "        async function convertToInteractive(key) {\n",
              "          const element = document.querySelector('#df-169d9fa4-c013-402a-ab5b-a5e18ba041b3');\n",
              "          const dataTable =\n",
              "            await google.colab.kernel.invokeFunction('convertToInteractive',\n",
              "                                                     [key], {});\n",
              "          if (!dataTable) return;\n",
              "\n",
              "          const docLinkHtml = 'Like what you see? Visit the ' +\n",
              "            '<a target=\"_blank\" href=https://colab.research.google.com/notebooks/data_table.ipynb>data table notebook</a>'\n",
              "            + ' to learn more about interactive tables.';\n",
              "          element.innerHTML = '';\n",
              "          dataTable['output_type'] = 'display_data';\n",
              "          await google.colab.output.renderOutput(dataTable, element);\n",
              "          const docLink = document.createElement('div');\n",
              "          docLink.innerHTML = docLinkHtml;\n",
              "          element.appendChild(docLink);\n",
              "        }\n",
              "      </script>\n",
              "    </div>\n",
              "  </div>\n",
              "  "
            ]
          },
          "metadata": {},
          "execution_count": 4
        }
      ]
    },
    {
      "cell_type": "code",
      "source": [
        "# Brief description of data\n",
        "diabetes_data.describe"
      ],
      "metadata": {
        "colab": {
          "base_uri": "https://localhost:8080/"
        },
        "id": "po_kNBJxwWc_",
        "outputId": "d282fd7a-ced6-4cb7-8485-838399052de5"
      },
      "execution_count": 5,
      "outputs": [
        {
          "output_type": "execute_result",
          "data": {
            "text/plain": [
              "<bound method NDFrame.describe of      Pregnancies  Glucose  BloodPressure  SkinThickness  Insulin   BMI  \\\n",
              "0              6      148             72             35        0  33.6   \n",
              "1              1       85             66             29        0  26.6   \n",
              "2              8      183             64              0        0  23.3   \n",
              "3              1       89             66             23       94  28.1   \n",
              "4              0      137             40             35      168  43.1   \n",
              "..           ...      ...            ...            ...      ...   ...   \n",
              "763           10      101             76             48      180  32.9   \n",
              "764            2      122             70             27        0  36.8   \n",
              "765            5      121             72             23      112  26.2   \n",
              "766            1      126             60              0        0  30.1   \n",
              "767            1       93             70             31        0  30.4   \n",
              "\n",
              "     DiabetesPedigreeFunction  Age  Outcome  \n",
              "0                       0.627   50        1  \n",
              "1                       0.351   31        0  \n",
              "2                       0.672   32        1  \n",
              "3                       0.167   21        0  \n",
              "4                       2.288   33        1  \n",
              "..                        ...  ...      ...  \n",
              "763                     0.171   63        0  \n",
              "764                     0.340   27        0  \n",
              "765                     0.245   30        0  \n",
              "766                     0.349   47        1  \n",
              "767                     0.315   23        0  \n",
              "\n",
              "[768 rows x 9 columns]>"
            ]
          },
          "metadata": {},
          "execution_count": 5
        }
      ]
    },
    {
      "cell_type": "markdown",
      "source": [
        "The above dataset contains a history of 768 patients who were tested over 8 different parameters clinically and the result of the test is in the 9th column. The 8 Parameters used are :\n",
        "\n",
        "\n",
        "\n",
        "*   Age : Age of the patient\n",
        "*   Pregnancy : Number of times a patient was pregnant.\n",
        "*   Glucose Level : The glucose content in the blood at the time of test. This is random GL test value\n",
        "*   Blood Pressure : Diastolic Pressure\n",
        "*   Skin Thickness : the depth of the skin tissue (uptil epiderma)\n",
        "*   Insulin : Insulin level in the blood\n",
        "*   BMI : Body Mass Index ( A measure of body fat based on height and weight of the patient ).\n",
        "*   DiabetesPedigreeFunction : A measure of likelihood of diabetes based on family history.\n",
        "\n",
        "\n",
        "\n",
        "\n",
        "\n",
        "\n",
        "\n",
        "\n"
      ],
      "metadata": {
        "id": "O9kehipOxwey"
      }
    },
    {
      "cell_type": "code",
      "source": [
        "# Creation of feature and result dataframe\n",
        "diabetic_features = diabetes_data.drop('Outcome',axis = 1)\n",
        "diabetic_diagnosis = diabetes_data['Outcome']"
      ],
      "metadata": {
        "id": "DmNhE57Ey8iE"
      },
      "execution_count": 6,
      "outputs": []
    },
    {
      "cell_type": "code",
      "source": [
        "# Let's plot some graphs to see how much correlation lies between parameters and result of diabetic test\n",
        "plt.rcParams[\"figure.figsize\"] = (8,7)\n",
        "sns.set_style('whitegrid')\n",
        "plt.scatter(diabetic_diagnosis,diabetic_features['Age'])"
      ],
      "metadata": {
        "colab": {
          "base_uri": "https://localhost:8080/",
          "height": 445
        },
        "id": "Hi16k0DXzA4_",
        "outputId": "21ec24e6-8d30-47c2-d3c7-935eb147fb03"
      },
      "execution_count": 7,
      "outputs": [
        {
          "output_type": "execute_result",
          "data": {
            "text/plain": [
              "<matplotlib.collections.PathCollection at 0x7ff7c20381c0>"
            ]
          },
          "metadata": {},
          "execution_count": 7
        },
        {
          "output_type": "display_data",
          "data": {
            "text/plain": [
              "<Figure size 576x504 with 1 Axes>"
            ],
            "image/png": "[encoded data removed]"
          },
          "metadata": {}
        }
      ]
    },
    {
      "cell_type": "markdown",
      "source": [
        "We can see that people having diabetes have a varying range of age starting from bottom 20 going upto 70 which shows a great amount of concern that even young people are diseased with diabetes"
      ],
      "metadata": {
        "id": "lddsaTHywG-w"
      }
    },
    {
      "cell_type": "code",
      "source": [
        "# Lets look at relation between BMI and Diabetic Outcomes\n",
        "sns.stripplot(x = diabetes_data['Outcome'],y = diabetes_data['BMI'],data = diabetes_data,palette=sns.color_palette(\"husl\", 8))"
      ],
      "metadata": {
        "colab": {
          "base_uri": "https://localhost:8080/",
          "height": 531
        },
        "id": "PFLuFEPPzJCz",
        "outputId": "31c6752d-fca7-4544-eff4-47a31775f776"
      },
      "execution_count": 8,
      "outputs": [
        {
          "output_type": "stream",
          "name": "stderr",
          "text": [
            "<ipython-input-8-236c5c695e6c>:2: FutureWarning: Passing `palette` without assigning `hue` is deprecated.\n",
            "  sns.stripplot(x = diabetes_data['Outcome'],y = diabetes_data['BMI'],data = diabetes_data,palette=sns.color_palette(\"husl\", 8))\n",
            "<ipython-input-8-236c5c695e6c>:2: UserWarning: The palette list has more values (8) than needed (2), which may not be intended.\n",
            "  sns.stripplot(x = diabetes_data['Outcome'],y = diabetes_data['BMI'],data = diabetes_data,palette=sns.color_palette(\"husl\", 8))\n"
          ]
        },
        {
          "output_type": "execute_result",
          "data": {
            "text/plain": [
              "<Axes: xlabel='Outcome', ylabel='BMI'>"
            ]
          },
          "metadata": {},
          "execution_count": 8
        },
        {
          "output_type": "display_data",
          "data": {
            "text/plain": [
              "<Figure size 576x504 with 1 Axes>"
            ],
            "image/png": "[encoded data removed]"
          },
          "metadata": {}
        }
      ]
    },
    {
      "cell_type": "markdown",
      "source": [
        "We see that BMI does not tells much if a person would suffer from Diabetes or not because normal people as well as our patients both have nearby about the same Body Mass Index"
      ],
      "metadata": {
        "id": "Op7CQf-xzaVp"
      }
    },
    {
      "cell_type": "code",
      "source": [
        "# Lets look what a person's ancestral line / pedigree can predict about a person to suffer from Diabetes\n",
        "sns.kdeplot(x = diabetes_data['DiabetesPedigreeFunction'],hue = diabetes_data['Outcome'],data = diabetes_data,multiple='stack')\n",
        "print(\"People having diabetes :\",diabetes_data[diabetes_data['Outcome']==True]['Outcome'].count())\n",
        "print(\"People that have pedigree measure greater than 0.30 and have diabetes :\",diabetes_data[(diabetes_data['Outcome']==True) & (diabetes_data['DiabetesPedigreeFunction']>=0.30)]['Outcome'].count())\n"
      ],
      "metadata": {
        "colab": {
          "base_uri": "https://localhost:8080/",
          "height": 477
        },
        "id": "-4oPXqTlzYkf",
        "outputId": "d586ce17-b118-439d-a379-fd5ee0c06b78"
      },
      "execution_count": 10,
      "outputs": [
        {
          "output_type": "stream",
          "name": "stdout",
          "text": [
            "People having diabetes : 268\n",
            "People that have pedigree measure greater than 0.30 and have diabetes : 186\n"
          ]
        },
        {
          "output_type": "display_data",
          "data": {
            "text/plain": [
              "<Figure size 576x504 with 1 Axes>"
            ],
            "image/png": "[encoded data removed]"
          },
          "metadata": {}
        }
      ]
    },
    {
      "cell_type": "markdown",
      "source": [
        "From above distribution we can say that if diabetes runs in the ancestral line, then it is highly possible for a person to inherit this trait and be diagnosed for diabetes in future. About 69.4% patients of total patients had pedigree score greater than 0.30 and also had diabetes. We have taken 0.30 as the lower bound for diabetic people cause from above graph, we can see that most of the patients we had, had mostly 0.30 as pedigree score. While this result can be biased because people with low score have also become a victim of diabetes while people with high scores as 1.9 do not have diabetes."
      ],
      "metadata": {
        "id": "JgHzNDxn0KLo"
      }
    },
    {
      "cell_type": "code",
      "source": [
        "# Let us try to look for some correlations between the features\n",
        "sns.heatmap(diabetic_features.corr())"
      ],
      "metadata": {
        "colab": {
          "base_uri": "https://localhost:8080/",
          "height": 570
        },
        "id": "4S1jHlCizTQc",
        "outputId": "77894be9-7e6b-4ded-b7c9-80c9de5b8969"
      },
      "execution_count": 11,
      "outputs": [
        {
          "output_type": "execute_result",
          "data": {
            "text/plain": [
              "<Axes: >"
            ]
          },
          "metadata": {},
          "execution_count": 11
        },
        {
          "output_type": "display_data",
          "data": {
            "text/plain": [
              "<Figure size 576x504 with 2 Axes>"
            ],
            "image/png": "[encoded data removed]"
          },
          "metadata": {}
        }
      ]
    },
    {
      "cell_type": "markdown",
      "source": [
        "We can see that there is a good amount of correlation between age and pregnancy frequency but actually they are not causal of one another because pregnancy frequency is dependent on an individual patient. While both age and pregnancy can trigger diabetic symptoms. Rest of the factors do not show a significant amount of correlation ( Insulin and Glucose show inverse correlation as Insulin affects the level of Glucose in blood )."
      ],
      "metadata": {
        "id": "gIYD6HVR0XNf"
      }
    },
    {
      "cell_type": "markdown",
      "source": [
        "## Model Building, Training And Testing"
      ],
      "metadata": {
        "id": "8qChj_vI0fNg"
      }
    },
    {
      "cell_type": "markdown",
      "source": [
        "We have used a simple sequential model with 3 Layers of connectivity. The first input layer has 8 input features and 12 Neurons with ReLu as the activation function of this layer(Rectified Linear Unit), the second hidden layer has 8 Neurons with ReLu as the activation function. The Final layer or the output layer has only 1 Neuron and uses sigmoid function for activation as its a binary type classification (Yes/No)."
      ],
      "metadata": {
        "id": "zIeDXllP0jwW"
      }
    },
    {
      "cell_type": "code",
      "source": [
        "# Creating Model\n",
        "from keras.models import Sequential \n",
        "from keras.layers import Dense \n",
        "model = Sequential()\n",
        "model.add(Dense(12,input_dim = 8,activation = 'relu'))\n",
        "model.add(Dense(12,activation = 'relu'))\n",
        "model.add(Dense(1,activation = 'sigmoid'))"
      ],
      "metadata": {
        "id": "Hv_hfJ8C0N0D"
      },
      "execution_count": 16,
      "outputs": []
    },
    {
      "cell_type": "code",
      "source": [
        "# Compiling Model. We are going to use Binary Cross Entropy for the loss function and adam for optimiser.\n",
        "model.compile(loss='binary_crossentropy',optimizer='adam',metrics = ['accuracy'])"
      ],
      "metadata": {
        "id": "bR4jrJrE0olA"
      },
      "execution_count": 17,
      "outputs": []
    },
    {
      "cell_type": "code",
      "source": [
        "# Fitting/Training Model. Our Model will make 70 epochs and updates would be done after every 3 examples\n",
        "model.fit(diabetic_features,diabetic_diagnosis,epochs=100,batch_size=5)"
      ],
      "metadata": {
        "colab": {
          "base_uri": "https://localhost:8080/"
        },
        "id": "AVA4DF-j1Lfz",
        "outputId": "2bd6ab46-daa3-4d25-87bb-bc0649d0f94c"
      },
      "execution_count": 18,
      "outputs": [
        {
          "output_type": "stream",
          "name": "stdout",
          "text": [
            "Epoch 1/100\n",
            "154/154 [==============================] - 2s 2ms/step - loss: 7.0011 - accuracy: 0.5312\n",
            "Epoch 2/100\n",
            "154/154 [==============================] - 0s 2ms/step - loss: 1.0993 - accuracy: 0.5417\n",
            "Epoch 3/100\n",
            "154/154 [==============================] - 0s 2ms/step - loss: 0.7701 - accuracy: 0.6133\n",
            "Epoch 4/100\n",
            "154/154 [==============================] - 0s 2ms/step - loss: 0.7711 - accuracy: 0.6081\n",
            "Epoch 5/100\n",
            "154/154 [==============================] - 0s 2ms/step - loss: 0.7312 - accuracy: 0.6185\n",
            "Epoch 6/100\n",
            "154/154 [==============================] - 0s 2ms/step - loss: 0.6881 - accuracy: 0.6523\n",
            "Epoch 7/100\n",
            "154/154 [==============================] - 0s 2ms/step - loss: 0.6829 - accuracy: 0.6654\n",
            "Epoch 8/100\n",
            "154/154 [==============================] - 0s 2ms/step - loss: 0.6752 - accuracy: 0.6576\n",
            "Epoch 9/100\n",
            "154/154 [==============================] - 0s 2ms/step - loss: 0.6496 - accuracy: 0.6628\n",
            "Epoch 10/100\n",
            "154/154 [==============================] - 0s 2ms/step - loss: 0.6884 - accuracy: 0.6641\n",
            "Epoch 11/100\n",
            "154/154 [==============================] - 0s 2ms/step - loss: 0.6473 - accuracy: 0.6745\n",
            "Epoch 12/100\n",
            "154/154 [==============================] - 0s 2ms/step - loss: 0.6568 - accuracy: 0.6693\n",
            "Epoch 13/100\n",
            "154/154 [==============================] - 0s 2ms/step - loss: 0.6905 - accuracy: 0.6654\n",
            "Epoch 14/100\n",
            "154/154 [==============================] - 0s 2ms/step - loss: 0.6360 - accuracy: 0.6888\n",
            "Epoch 15/100\n",
            "154/154 [==============================] - 0s 2ms/step - loss: 0.6163 - accuracy: 0.6823\n",
            "Epoch 16/100\n",
            "154/154 [==============================] - 0s 2ms/step - loss: 0.6306 - accuracy: 0.6615\n",
            "Epoch 17/100\n",
            "154/154 [==============================] - 0s 2ms/step - loss: 0.5965 - accuracy: 0.7057\n",
            "Epoch 18/100\n",
            "154/154 [==============================] - 0s 2ms/step - loss: 0.5965 - accuracy: 0.6732\n",
            "Epoch 19/100\n",
            "154/154 [==============================] - 0s 2ms/step - loss: 0.5944 - accuracy: 0.6953\n",
            "Epoch 20/100\n",
            "154/154 [==============================] - 0s 2ms/step - loss: 0.6040 - accuracy: 0.7083\n",
            "Epoch 21/100\n",
            "154/154 [==============================] - 0s 2ms/step - loss: 0.5923 - accuracy: 0.7135\n",
            "Epoch 22/100\n",
            "154/154 [==============================] - 0s 3ms/step - loss: 0.5791 - accuracy: 0.7109\n",
            "Epoch 23/100\n",
            "154/154 [==============================] - 0s 2ms/step - loss: 0.5833 - accuracy: 0.7031\n",
            "Epoch 24/100\n",
            "154/154 [==============================] - 0s 2ms/step - loss: 0.5818 - accuracy: 0.7174\n",
            "Epoch 25/100\n",
            "154/154 [==============================] - 0s 2ms/step - loss: 0.5881 - accuracy: 0.7057\n",
            "Epoch 26/100\n",
            "154/154 [==============================] - 0s 2ms/step - loss: 0.5751 - accuracy: 0.7174\n",
            "Epoch 27/100\n",
            "154/154 [==============================] - 0s 2ms/step - loss: 0.5804 - accuracy: 0.7135\n",
            "Epoch 28/100\n",
            "154/154 [==============================] - 0s 2ms/step - loss: 0.5582 - accuracy: 0.7279\n",
            "Epoch 29/100\n",
            "154/154 [==============================] - 0s 2ms/step - loss: 0.5598 - accuracy: 0.7331\n",
            "Epoch 30/100\n",
            "154/154 [==============================] - 0s 2ms/step - loss: 0.5699 - accuracy: 0.7370\n",
            "Epoch 31/100\n",
            "154/154 [==============================] - 0s 2ms/step - loss: 0.5594 - accuracy: 0.7188\n",
            "Epoch 32/100\n",
            "154/154 [==============================] - 0s 2ms/step - loss: 0.5501 - accuracy: 0.7383\n",
            "Epoch 33/100\n",
            "154/154 [==============================] - 0s 2ms/step - loss: 0.6339 - accuracy: 0.7005\n",
            "Epoch 34/100\n",
            "154/154 [==============================] - 0s 2ms/step - loss: 0.5606 - accuracy: 0.7188\n",
            "Epoch 35/100\n",
            "154/154 [==============================] - 0s 2ms/step - loss: 0.5733 - accuracy: 0.7057\n",
            "Epoch 36/100\n",
            "154/154 [==============================] - 0s 2ms/step - loss: 0.5798 - accuracy: 0.7292\n",
            "Epoch 37/100\n",
            "154/154 [==============================] - 0s 2ms/step - loss: 0.5720 - accuracy: 0.7201\n",
            "Epoch 38/100\n",
            "154/154 [==============================] - 0s 2ms/step - loss: 0.5715 - accuracy: 0.7305\n",
            "Epoch 39/100\n",
            "154/154 [==============================] - 0s 2ms/step - loss: 0.6071 - accuracy: 0.6979\n",
            "Epoch 40/100\n",
            "154/154 [==============================] - 0s 2ms/step - loss: 0.5665 - accuracy: 0.7279\n",
            "Epoch 41/100\n",
            "154/154 [==============================] - 0s 2ms/step - loss: 0.5542 - accuracy: 0.7214\n",
            "Epoch 42/100\n",
            "154/154 [==============================] - 0s 2ms/step - loss: 0.5527 - accuracy: 0.7148\n",
            "Epoch 43/100\n",
            "154/154 [==============================] - 0s 2ms/step - loss: 0.5645 - accuracy: 0.7174\n",
            "Epoch 44/100\n",
            "154/154 [==============================] - 0s 2ms/step - loss: 0.5507 - accuracy: 0.7227\n",
            "Epoch 45/100\n",
            "154/154 [==============================] - 0s 2ms/step - loss: 0.5412 - accuracy: 0.7279\n",
            "Epoch 46/100\n",
            "154/154 [==============================] - 0s 2ms/step - loss: 0.5617 - accuracy: 0.7109\n",
            "Epoch 47/100\n",
            "154/154 [==============================] - 0s 2ms/step - loss: 0.5531 - accuracy: 0.7253\n",
            "Epoch 48/100\n",
            "154/154 [==============================] - 0s 2ms/step - loss: 0.5455 - accuracy: 0.7279\n",
            "Epoch 49/100\n",
            "154/154 [==============================] - 0s 2ms/step - loss: 0.5305 - accuracy: 0.7474\n",
            "Epoch 50/100\n",
            "154/154 [==============================] - 0s 2ms/step - loss: 0.5284 - accuracy: 0.7344\n",
            "Epoch 51/100\n",
            "154/154 [==============================] - 0s 2ms/step - loss: 0.5495 - accuracy: 0.7318\n",
            "Epoch 52/100\n",
            "154/154 [==============================] - 0s 2ms/step - loss: 0.5474 - accuracy: 0.7253\n",
            "Epoch 53/100\n",
            "154/154 [==============================] - 0s 2ms/step - loss: 0.5290 - accuracy: 0.7305\n",
            "Epoch 54/100\n",
            "154/154 [==============================] - 0s 2ms/step - loss: 0.5424 - accuracy: 0.7305\n",
            "Epoch 55/100\n",
            "154/154 [==============================] - 0s 2ms/step - loss: 0.5380 - accuracy: 0.7383\n",
            "Epoch 56/100\n",
            "154/154 [==============================] - 0s 2ms/step - loss: 0.5385 - accuracy: 0.7318\n",
            "Epoch 57/100\n",
            "154/154 [==============================] - 0s 2ms/step - loss: 0.5260 - accuracy: 0.7396\n",
            "Epoch 58/100\n",
            "154/154 [==============================] - 0s 2ms/step - loss: 0.5402 - accuracy: 0.7344\n",
            "Epoch 59/100\n",
            "154/154 [==============================] - 0s 2ms/step - loss: 0.5284 - accuracy: 0.7357\n",
            "Epoch 60/100\n",
            "154/154 [==============================] - 0s 2ms/step - loss: 0.5300 - accuracy: 0.7344\n",
            "Epoch 61/100\n",
            "154/154 [==============================] - 0s 2ms/step - loss: 0.5360 - accuracy: 0.7422\n",
            "Epoch 62/100\n",
            "154/154 [==============================] - 0s 2ms/step - loss: 0.5372 - accuracy: 0.7201\n",
            "Epoch 63/100\n",
            "154/154 [==============================] - 0s 2ms/step - loss: 0.5559 - accuracy: 0.7305\n",
            "Epoch 64/100\n",
            "154/154 [==============================] - 0s 2ms/step - loss: 0.5479 - accuracy: 0.7188\n",
            "Epoch 65/100\n",
            "154/154 [==============================] - 0s 3ms/step - loss: 0.5270 - accuracy: 0.7448\n",
            "Epoch 66/100\n",
            "154/154 [==============================] - 0s 2ms/step - loss: 0.5440 - accuracy: 0.7253\n",
            "Epoch 67/100\n",
            "154/154 [==============================] - 0s 2ms/step - loss: 0.5307 - accuracy: 0.7422\n",
            "Epoch 68/100\n",
            "154/154 [==============================] - 0s 2ms/step - loss: 0.5217 - accuracy: 0.7617\n",
            "Epoch 69/100\n",
            "154/154 [==============================] - 0s 2ms/step - loss: 0.5190 - accuracy: 0.7344\n",
            "Epoch 70/100\n",
            "154/154 [==============================] - 0s 2ms/step - loss: 0.5097 - accuracy: 0.7409\n",
            "Epoch 71/100\n",
            "154/154 [==============================] - 0s 2ms/step - loss: 0.5359 - accuracy: 0.7396\n",
            "Epoch 72/100\n",
            "154/154 [==============================] - 0s 2ms/step - loss: 0.5097 - accuracy: 0.7552\n",
            "Epoch 73/100\n",
            "154/154 [==============================] - 0s 2ms/step - loss: 0.5264 - accuracy: 0.7188\n",
            "Epoch 74/100\n",
            "154/154 [==============================] - 0s 2ms/step - loss: 0.5227 - accuracy: 0.7552\n",
            "Epoch 75/100\n",
            "154/154 [==============================] - 0s 2ms/step - loss: 0.5335 - accuracy: 0.7422\n",
            "Epoch 76/100\n",
            "154/154 [==============================] - 0s 2ms/step - loss: 0.5226 - accuracy: 0.7526\n",
            "Epoch 77/100\n",
            "154/154 [==============================] - 0s 2ms/step - loss: 0.5320 - accuracy: 0.7370\n",
            "Epoch 78/100\n",
            "154/154 [==============================] - 0s 2ms/step - loss: 0.5096 - accuracy: 0.7565\n",
            "Epoch 79/100\n",
            "154/154 [==============================] - 0s 2ms/step - loss: 0.5160 - accuracy: 0.7344\n",
            "Epoch 80/100\n",
            "154/154 [==============================] - 0s 2ms/step - loss: 0.5179 - accuracy: 0.7435\n",
            "Epoch 81/100\n",
            "154/154 [==============================] - 0s 2ms/step - loss: 0.5106 - accuracy: 0.7474\n",
            "Epoch 82/100\n",
            "154/154 [==============================] - 0s 2ms/step - loss: 0.5307 - accuracy: 0.7539\n",
            "Epoch 83/100\n",
            "154/154 [==============================] - 0s 2ms/step - loss: 0.5199 - accuracy: 0.7500\n",
            "Epoch 84/100\n",
            "154/154 [==============================] - 0s 2ms/step - loss: 0.5057 - accuracy: 0.7591\n",
            "Epoch 85/100\n",
            "154/154 [==============================] - 0s 2ms/step - loss: 0.5039 - accuracy: 0.7526\n",
            "Epoch 86/100\n",
            "154/154 [==============================] - 0s 2ms/step - loss: 0.5155 - accuracy: 0.7435\n",
            "Epoch 87/100\n",
            "154/154 [==============================] - 0s 2ms/step - loss: 0.5119 - accuracy: 0.7292\n",
            "Epoch 88/100\n",
            "154/154 [==============================] - 0s 2ms/step - loss: 0.5391 - accuracy: 0.7370\n",
            "Epoch 89/100\n",
            "154/154 [==============================] - 0s 2ms/step - loss: 0.4981 - accuracy: 0.7552\n",
            "Epoch 90/100\n",
            "154/154 [==============================] - 0s 2ms/step - loss: 0.5090 - accuracy: 0.7604\n",
            "Epoch 91/100\n",
            "154/154 [==============================] - 0s 2ms/step - loss: 0.4940 - accuracy: 0.7721\n",
            "Epoch 92/100\n",
            "154/154 [==============================] - 0s 2ms/step - loss: 0.5072 - accuracy: 0.7617\n",
            "Epoch 93/100\n",
            "154/154 [==============================] - 0s 2ms/step - loss: 0.5189 - accuracy: 0.7513\n",
            "Epoch 94/100\n",
            "154/154 [==============================] - 0s 2ms/step - loss: 0.5011 - accuracy: 0.7656\n",
            "Epoch 95/100\n",
            "154/154 [==============================] - 0s 2ms/step - loss: 0.5078 - accuracy: 0.7695\n",
            "Epoch 96/100\n",
            "154/154 [==============================] - 0s 2ms/step - loss: 0.5101 - accuracy: 0.7396\n",
            "Epoch 97/100\n",
            "154/154 [==============================] - 0s 2ms/step - loss: 0.5043 - accuracy: 0.7617\n",
            "Epoch 98/100\n",
            "154/154 [==============================] - 0s 2ms/step - loss: 0.5089 - accuracy: 0.7578\n",
            "Epoch 99/100\n",
            "154/154 [==============================] - 0s 2ms/step - loss: 0.4981 - accuracy: 0.7617\n",
            "Epoch 100/100\n",
            "154/154 [==============================] - 0s 2ms/step - loss: 0.5101 - accuracy: 0.7409\n"
          ]
        },
        {
          "output_type": "execute_result",
          "data": {
            "text/plain": [
              "<keras.callbacks.History at 0x7ff765b1a1f0>"
            ]
          },
          "metadata": {},
          "execution_count": 18
        }
      ]
    },
    {
      "cell_type": "code",
      "source": [
        "# Accuracy Of the Model\n",
        "_,accuracy = model.evaluate(diabetic_features, diabetic_diagnosis)\n",
        "print(\"Model accuracy : %.9f\"% (accuracy*100))"
      ],
      "metadata": {
        "colab": {
          "base_uri": "https://localhost:8080/"
        },
        "id": "tA-blOQJ1O-N",
        "outputId": "5899c8ef-1131-4186-d354-4d32426e0de4"
      },
      "execution_count": 19,
      "outputs": [
        {
          "output_type": "stream",
          "name": "stdout",
          "text": [
            "24/24 [==============================] - 0s 2ms/step - loss: 0.4830 - accuracy: 0.7721\n",
            "Model accuracy : 77.213543653\n"
          ]
        }
      ]
    },
    {
      "cell_type": "code",
      "source": [
        "# Calculation Of Predictions (values in this dataframe lie between 0 and 1 (real value))\n",
        "diabetic_report = model.predict(diabetic_features)\n",
        "print([round(x[0]) for x in diabetic_report])"
      ],
      "metadata": {
        "colab": {
          "base_uri": "https://localhost:8080/"
        },
        "id": "u9TeciSb2NLN",
        "outputId": "dcc7fe2e-0db3-4c0e-e077-38fc33d48f78"
      },
      "execution_count": 20,
      "outputs": [
        {
          "output_type": "stream",
          "name": "stdout",
          "text": [
            "24/24 [==============================] - 0s 1ms/step\n",
            "[1, 0, 1, 0, 1, 0, 0, 1, 1, 0, 0, 1, 1, 1, 1, 0, 0, 0, 1, 0, 0, 0, 1, 0, 1, 1, 1, 0, 0, 0, 0, 0, 0, 0, 0, 0, 1, 0, 0, 0, 0, 0, 0, 1, 1, 1, 1, 0, 0, 0, 0, 0, 0, 1, 1, 0, 1, 0, 1, 0, 0, 0, 0, 0, 0, 0, 0, 0, 0, 0, 0, 0, 0, 0, 0, 0, 0, 0, 1, 0, 0, 0, 0, 0, 0, 0, 0, 0, 1, 0, 0, 0, 0, 0, 0, 1, 0, 0, 0, 0, 1, 0, 0, 0, 0, 0, 0, 1, 0, 0, 0, 1, 0, 0, 1, 0, 0, 0, 0, 0, 0, 0, 0, 0, 0, 1, 0, 0, 0, 0, 0, 1, 1, 0, 0, 0, 0, 0, 0, 0, 0, 0, 0, 0, 0, 0, 0, 0, 0, 0, 0, 0, 1, 0, 1, 0, 0, 0, 0, 1, 0, 0, 0, 0, 0, 0, 0, 0, 0, 0, 0, 0, 0, 0, 0, 1, 0, 0, 1, 0, 0, 0, 0, 0, 0, 1, 1, 0, 0, 0, 0, 0, 1, 1, 0, 0, 0, 0, 0, 0, 0, 0, 0, 0, 0, 0, 1, 0, 0, 1, 0, 0, 1, 0, 0, 1, 0, 0, 0, 0, 1, 0, 0, 0, 0, 0, 0, 1, 0, 0, 0, 1, 0, 0, 0, 1, 1, 1, 1, 0, 0, 0, 0, 1, 0, 1, 0, 0, 1, 0, 0, 0, 0, 0, 0, 0, 0, 0, 1, 1, 0, 1, 0, 0, 0, 0, 1, 0, 0, 1, 0, 0, 0, 0, 0, 0, 0, 0, 0, 0, 0, 0, 0, 0, 0, 0, 0, 0, 0, 0, 0, 0, 0, 1, 0, 1, 1, 0, 1, 0, 1, 0, 0, 0, 0, 0, 1, 0, 0, 0, 0, 0, 0, 0, 0, 0, 0, 1, 0, 0, 0, 0, 0, 0, 0, 0, 0, 1, 0, 0, 0, 0, 1, 0, 0, 0, 0, 0, 1, 1, 0, 0, 0, 0, 0, 0, 0, 1, 0, 1, 0, 0, 0, 0, 0, 1, 1, 1, 0, 1, 1, 0, 0, 0, 0, 0, 0, 0, 0, 0, 1, 0, 0, 0, 1, 1, 0, 0, 1, 0, 0, 0, 0, 0, 0, 0, 0, 0, 1, 0, 0, 1, 0, 0, 1, 0, 0, 0, 0, 1, 0, 0, 0, 0, 1, 0, 0, 0, 1, 0, 0, 0, 0, 0, 0, 1, 0, 0, 0, 0, 0, 0, 0, 0, 1, 1, 0, 1, 0, 0, 0, 0, 0, 0, 0, 1, 0, 0, 0, 0, 0, 0, 0, 0, 0, 1, 0, 0, 0, 0, 0, 0, 0, 0, 0, 1, 0, 0, 1, 0, 0, 0, 0, 0, 0, 0, 0, 0, 0, 0, 0, 0, 0, 0, 0, 0, 0, 0, 0, 0, 1, 0, 0, 0, 1, 0, 0, 1, 0, 0, 0, 0, 0, 0, 0, 0, 0, 0, 1, 1, 0, 0, 1, 0, 0, 0, 0, 0, 0, 0, 0, 0, 0, 0, 0, 0, 1, 0, 0, 0, 0, 0, 0, 1, 0, 0, 0, 0, 0, 0, 0, 0, 0, 0, 0, 1, 0, 0, 0, 0, 1, 0, 0, 0, 0, 1, 1, 0, 0, 0, 0, 0, 0, 0, 0, 1, 0, 0, 0, 0, 0, 1, 0, 0, 0, 0, 0, 0, 0, 0, 0, 0, 0, 0, 0, 0, 0, 0, 0, 1, 0, 0, 0, 0, 1, 0, 1, 0, 1, 0, 0, 0, 0, 0, 1, 0, 0, 0, 1, 0, 0, 0, 0, 1, 1, 0, 0, 0, 0, 0, 0, 1, 1, 0, 1, 0, 0, 0, 0, 1, 0, 0, 1, 0, 0, 0, 0, 0, 0, 0, 0, 0, 0, 0, 0, 0, 0, 0, 0, 0, 0, 0, 0, 0, 0, 1, 0, 1, 1, 0, 0, 0, 0, 0, 0, 0, 0, 0, 0, 0, 1, 1, 1, 1, 0, 0, 0, 0, 0, 1, 1, 0, 0, 0, 0, 1, 0, 0, 0, 0, 0, 1, 0, 0, 0, 0, 0, 0, 0, 1, 0, 0, 0, 1, 0, 1, 0, 0, 0, 0, 0, 0, 0, 0, 0, 0, 0, 0, 1, 0, 0, 0, 1, 0, 0, 1, 1, 0, 0, 0, 0, 0, 1, 0, 0, 0, 0, 0, 0, 0, 0, 0, 0, 0, 0, 0, 0, 0, 0, 0, 1, 0, 0, 0, 1, 0, 0, 0, 1, 0, 0, 0, 0, 0, 1, 0, 0, 0, 0, 1, 0, 1, 0, 0, 0, 0, 0, 0]\n"
          ]
        }
      ]
    },
    {
      "cell_type": "markdown",
      "source": [
        "# *Thank you !!*"
      ],
      "metadata": {
        "id": "vBhR2xPA2V6j"
      }
    },
    {
      "cell_type": "code",
      "source": [],
      "metadata": {
        "id": "7TF5S-LP2SpQ"
      },
      "execution_count": null,
      "outputs": []
    }
  ]
}